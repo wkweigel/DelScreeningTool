{
 "cells": [
  {
   "cell_type": "code",
   "execution_count": 2,
   "metadata": {},
   "outputs": [],
   "source": [
    "import pandas as pd\n",
    "\n",
    "#Specify inputs\n",
    "#The input csv file must be placed in the 'utils' folder (location of this notebook)\n",
    "csv_file='ExampleCodes.csv' #This is the file provided as an example\n",
    "output_file='ExampleCodes_DictFormat.txt'\n",
    "\n",
    "#Change these to match your column headers (case sensitive!)\n",
    "col1='code'\n",
    "col2='id'\n",
    "\n",
    "#Import csv file\n",
    "df=pd.read_csv(csv_file)\n",
    "\n",
    "# Format and output to txt\n",
    "with open(output_file, 'w+') as file:\n",
    "    for idx, row in df.iterrows():\n",
    "        file.write(f'\\'{row[col1]}\\' : \\'{row[col2]}\\', \\n')"
   ]
  }
 ],
 "metadata": {
  "kernelspec": {
   "display_name": "biopython",
   "language": "python",
   "name": "python3"
  },
  "language_info": {
   "codemirror_mode": {
    "name": "ipython",
    "version": 3
   },
   "file_extension": ".py",
   "mimetype": "text/x-python",
   "name": "python",
   "nbconvert_exporter": "python",
   "pygments_lexer": "ipython3",
   "version": "3.10.8"
  }
 },
 "nbformat": 4,
 "nbformat_minor": 2
}
